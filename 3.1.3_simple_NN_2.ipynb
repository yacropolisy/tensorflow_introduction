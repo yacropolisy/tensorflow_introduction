{
 "cells": [
  {
   "cell_type": "code",
   "execution_count": 1,
   "metadata": {},
   "outputs": [
    {
     "name": "stderr",
     "output_type": "stream",
     "text": [
      "/Users/admin/.pyenv/versions/anaconda3-2.4.0/envs/tensorFlow/lib/python3.6/importlib/_bootstrap.py:205: RuntimeWarning: compiletime version 3.5 of module 'tensorflow.python.framework.fast_tensor_util' does not match runtime version 3.6\n",
      "  return f(*args, **kwds)\n"
     ]
    }
   ],
   "source": [
    "import tensorflow as tf\n",
    "import numpy as np\n",
    "import matplotlib.pyplot as plt\n",
    "from numpy.random import multivariate_normal, permutation\n",
    "import pandas as pd\n",
    "from pandas import DataFrame, Series\n",
    "\n",
    "np.random.seed(20160614)\n",
    "tf.set_random_seed(20160614)"
   ]
  },
  {
   "cell_type": "code",
   "execution_count": 2,
   "metadata": {},
   "outputs": [],
   "source": [
    "def generate_detablock(n, mu, var, t):\n",
    "    data = multivariate_normal(mu, np.eye(2)*var, n)\n",
    "    df = DataFrame(data, columns=['x1', 'x2'])\n",
    "    df['t'] = t\n",
    "    return df\n",
    "\n",
    "df0 = generate_detablock(15,[7,7],22,0)\n",
    "df1 = generate_detablock(15,[22,7],22,0)\n",
    "df2 = generate_detablock(15,[7,22],22,0)\n",
    "df3 = generate_detablock(15,[20,20],22,1)\n",
    "\n",
    "df = pd.concat([df0, df1, df2, df3], ignore_index=True)\n",
    "train_set = df.reindex(permutation(df.index)).reset_index(drop=True)\n"
   ]
  },
  {
   "cell_type": "code",
   "execution_count": 3,
   "metadata": {},
   "outputs": [],
   "source": [
    "train_x = train_set[['x1','x2']].as_matrix()\n",
    "train_t = train_set['t'].as_matrix().reshape([len(train_set),1])"
   ]
  },
  {
   "cell_type": "code",
   "execution_count": 4,
   "metadata": {},
   "outputs": [],
   "source": [
    "num_units = 4\n",
    "mult = train_x.flatten().mean()\n",
    "\n",
    "x = tf.placeholder(tf.float32, [None, 2])\n",
    "\n",
    "w1 = tf.Variable(tf.truncated_normal([2, num_units]))\n",
    "b1 = tf.Variable(tf.zeros([num_units]))\n",
    "hidden1 = tf.nn.tanh(tf.matmul(x, w1) + b1 * mult)\n",
    "\n",
    "w0 = tf.Variable(tf.zeros([num_units, 1]))\n",
    "b0 = tf.Variable(tf.zeros([1]))\n",
    "p = tf.nn.sigmoid(tf.matmul(hidden1, w0) + b0*mult)"
   ]
  },
  {
   "cell_type": "code",
   "execution_count": 5,
   "metadata": {},
   "outputs": [],
   "source": [
    "t = tf.placeholder(tf.float32, [None,1])\n",
    "loss = -tf.reduce_sum(t*tf.log(p) + (1-t)*tf.log(1-p))\n",
    "train_step = tf.train.GradientDescentOptimizer(0.0005).minimize(loss)\n",
    "correct_prediction = tf.equal(tf.sign(p-0.5), tf.sign(t-0.5))\n",
    "accuracy = tf.reduce_mean(tf.cast(correct_prediction, tf.float32))"
   ]
  },
  {
   "cell_type": "code",
   "execution_count": 6,
   "metadata": {},
   "outputs": [],
   "source": [
    "sess = tf.InteractiveSession()\n",
    "sess.run(tf.global_variables_initializer())"
   ]
  },
  {
   "cell_type": "code",
   "execution_count": 7,
   "metadata": {},
   "outputs": [
    {
     "name": "stdout",
     "output_type": "stream",
     "text": [
      "step: 100, loss: 33.631126, accuracy: 0.750000\n",
      "step: 200, loss: 33.079819, accuracy: 0.750000\n",
      "step: 300, loss: 30.141659, accuracy: 0.750000\n",
      "step: 400, loss: 22.636715, accuracy: 0.750000\n",
      "step: 500, loss: 17.353382, accuracy: 0.950000\n",
      "step: 600, loss: 14.228512, accuracy: 0.950000\n",
      "step: 700, loss: 12.191169, accuracy: 0.950000\n",
      "step: 800, loss: 9.720697, accuracy: 0.966667\n",
      "step: 900, loss: 8.645998, accuracy: 0.966667\n",
      "step: 1000, loss: 7.876550, accuracy: 0.983333\n",
      "step: 1100, loss: 7.283416, accuracy: 0.983333\n",
      "step: 1200, loss: 6.801841, accuracy: 0.983333\n",
      "step: 1300, loss: 6.396116, accuracy: 0.983333\n",
      "step: 1400, loss: 6.045128, accuracy: 0.983333\n",
      "step: 1500, loss: 5.736327, accuracy: 0.983333\n",
      "step: 1600, loss: 5.462470, accuracy: 0.983333\n",
      "step: 1700, loss: 5.219091, accuracy: 0.983333\n",
      "step: 1800, loss: 5.002587, accuracy: 0.983333\n",
      "step: 1900, loss: 4.809478, accuracy: 0.983333\n",
      "step: 2000, loss: 4.636462, accuracy: 0.983333\n",
      "step: 2100, loss: 4.480586, accuracy: 0.983333\n",
      "step: 2200, loss: 4.339334, accuracy: 0.983333\n",
      "step: 2300, loss: 4.210564, accuracy: 0.983333\n",
      "step: 2400, loss: 4.092478, accuracy: 0.983333\n",
      "step: 2500, loss: 3.983541, accuracy: 0.983333\n",
      "step: 2600, loss: 3.882492, accuracy: 0.983333\n",
      "step: 2700, loss: 3.788176, accuracy: 0.983333\n",
      "step: 2800, loss: 3.698915, accuracy: 0.983333\n",
      "step: 2900, loss: 3.613804, accuracy: 0.983333\n",
      "step: 3000, loss: 3.529724, accuracy: 0.983333\n",
      "step: 3100, loss: 3.438247, accuracy: 0.983333\n",
      "step: 3200, loss: 3.339978, accuracy: 0.983333\n",
      "step: 3300, loss: 3.252150, accuracy: 0.983333\n",
      "step: 3400, loss: 3.174179, accuracy: 0.983333\n",
      "step: 3500, loss: 3.102749, accuracy: 0.983333\n",
      "step: 3600, loss: 3.036332, accuracy: 0.983333\n",
      "step: 3700, loss: 2.974123, accuracy: 0.983333\n",
      "step: 3800, loss: 2.915576, accuracy: 0.983333\n",
      "step: 3900, loss: 2.860255, accuracy: 0.983333\n",
      "step: 4000, loss: 2.807801, accuracy: 0.983333\n"
     ]
    }
   ],
   "source": [
    "i = 0\n",
    "for _ in range(4000):\n",
    "    i += 1\n",
    "    sess.run(train_step, feed_dict={x:train_x, t:train_t})\n",
    "    if i % 100 == 0:\n",
    "        loss_val, acc_val = sess.run([loss, accuracy], feed_dict={x:train_x, t:train_t})\n",
    "        print('step: %d, loss: %f, accuracy: %f' % (i, loss_val, acc_val))"
   ]
  },
  {
   "cell_type": "code",
   "execution_count": 8,
   "metadata": {},
   "outputs": [
    {
     "data": {
      "text/plain": [
       "<matplotlib.image.AxesImage at 0x11c07a470>"
      ]
     },
     "execution_count": 8,
     "metadata": {},
     "output_type": "execute_result"
    }
   ],
   "source": [
    "train_set0 = train_set[train_set['t'] == 0]\n",
    "train_set1 = train_set[train_set['t'] == 1]\n",
    "\n",
    "fig = plt.figure(figsize=(6,6))\n",
    "subplot = fig.add_subplot(1,1,1)\n",
    "subplot.set_ylim([0,30])\n",
    "subplot.set_xlim([0,30])\n",
    "subplot.scatter(train_set1.x1,train_set1.x2, marker='x')\n",
    "subplot.scatter(train_set0.x1,train_set0.x2, marker='o')\n",
    "\n",
    "locations = [] \n",
    "for x2 in np.linspace(0, 30, 100):\n",
    "    for x1 in np.linspace(0,30,100):\n",
    "        locations.append((x1,x2))\n",
    "p_vals = sess.run(p, feed_dict={x:locations})\n",
    "p_vals = p_vals.reshape((100,100))\n",
    "subplot.imshow(p_vals, origin='lower', extent=(0, 30, 0, 30), cmap=plt.cm.gray_r, alpha=0.5)"
   ]
  },
  {
   "cell_type": "code",
   "execution_count": 9,
   "metadata": {},
   "outputs": [
    {
     "data": {
      "image/png": "[encoded data removed]",
      "text/plain": [
       "<matplotlib.figure.Figure at 0x11c04fb38>"
      ]
     },
     "execution_count": 9,
     "metadata": {},
     "output_type": "execute_result"
    }
   ],
   "source": [
    "fig"
   ]
  },
  {
   "cell_type": "code",
   "execution_count": null,
   "metadata": {},
   "outputs": [],
   "source": []
  }
 ],
 "metadata": {
  "kernelspec": {
   "display_name": "Python 3",
   "language": "python",
   "name": "python3"
  },
  "language_info": {
   "codemirror_mode": {
    "name": "ipython",
    "version": 3
   },
   "file_extension": ".py",
   "mimetype": "text/x-python",
   "name": "python",
   "nbconvert_exporter": "python",
   "pygments_lexer": "ipython3",
   "version": "3.6.2"
  }
 },
 "nbformat": 4,
 "nbformat_minor": 2
}
