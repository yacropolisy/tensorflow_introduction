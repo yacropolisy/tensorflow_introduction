{
 "cells": [
  {
   "cell_type": "code",
   "execution_count": 1,
   "metadata": {},
   "outputs": [
    {
     "name": "stderr",
     "output_type": "stream",
     "text": [
      "/Users/admin/.pyenv/versions/anaconda3-2.4.0/envs/tensorFlow/lib/python3.6/importlib/_bootstrap.py:205: RuntimeWarning: compiletime version 3.5 of module 'tensorflow.python.framework.fast_tensor_util' does not match runtime version 3.6\n",
      "  return f(*args, **kwds)\n"
     ]
    }
   ],
   "source": [
    "import tensorflow as tf\n",
    "import numpy as np\n",
    "import matplotlib.pyplot as plt\n",
    "from tensorflow.examples.tutorials.mnist import input_data\n",
    "\n",
    "np.random.seed(20160612)\n",
    "tf.set_random_seed(20160612)"
   ]
  },
  {
   "cell_type": "code",
   "execution_count": 2,
   "metadata": {},
   "outputs": [
    {
     "name": "stdout",
     "output_type": "stream",
     "text": [
      "Extracting tmp/data/train-images-idx3-ubyte.gz\n",
      "Extracting tmp/data/train-labels-idx1-ubyte.gz\n",
      "Extracting tmp/data/t10k-images-idx3-ubyte.gz\n",
      "Extracting tmp/data/t10k-labels-idx1-ubyte.gz\n"
     ]
    }
   ],
   "source": [
    "mnist = input_data.read_data_sets(\"tmp/data/\", one_hot=True)"
   ]
  },
  {
   "cell_type": "code",
   "execution_count": 3,
   "metadata": {},
   "outputs": [],
   "source": [
    "class SingleLayerNetwork:\n",
    "    def __init__(self, num_units):\n",
    "        with tf.Graph().as_default():\n",
    "            self.prepare_model(num_units)\n",
    "            self.prepare_session()\n",
    "            \n",
    "    def prepare_model(self, num_units):\n",
    "        with tf.name_scope('input'):\n",
    "            x = tf.placeholder(tf.float32, [None, 784])\n",
    "            \n",
    "        with tf.name_scope('hidden'):\n",
    "            w1 = tf.Variable(tf.truncated_normal([784, num_units]))\n",
    "            b1 = tf.Variable(tf.zeros([num_units]))\n",
    "            hidden1 = tf.nn.tanh(tf.matmul(x, w1) + b1)\n",
    "        \n",
    "        with tf.name_scope('output'):\n",
    "            w0 = tf.Variable(tf.zeros([num_units, 10]))\n",
    "            b0 = tf.Variable(tf.zeros([10]))\n",
    "            p = tf.nn.softmax(tf.matmul(hidden1, w0) + b0)\n",
    "            \n",
    "        with tf.name_scope('optimizer'):\n",
    "            t = tf.placeholder(tf.float32, [None, 10])\n",
    "            loss = -tf.reduce_sum(t * tf.log(p))\n",
    "            train_step = tf.train.AdamOptimizer().minimize(loss)\n",
    "        \n",
    "        with tf.name_scope('evaluator'):\n",
    "            correct_prediction = tf.equal(tf.argmax(p, 1), tf.argmax(t, 1))\n",
    "            accuracy = tf.reduce_mean (tf.cast(correct_prediction, tf.float32))\n",
    "            \n",
    "#         tf.scalar_summary(\"loss\",loss)\n",
    "#         tf.scalar_summary(\"accuracy\",accuracy)\n",
    "#         tf.histogram_summary(\"weights_hidden\",w1)\n",
    "#         tf.histogram_summary(\"biases_hidden\",b1)\n",
    "#         tf.histogram_summary(\"weights_hidden\",w0)\n",
    "#         tf.histogram_summary(\"biases_hidden\",b0)\n",
    "        \n",
    "        tf.summary.scalar(\"loss\",loss)\n",
    "        tf.summary.scalar(\"accuracy\",accuracy)\n",
    "        tf.summary.histogram(\"weights_hidden\",w1)\n",
    "        tf.summary.histogram(\"biases_hidden\",b1)\n",
    "        tf.summary.histogram(\"weights_hidden\",w0)\n",
    "        tf.summary.histogram(\"biases_hidden\",b0)\n",
    "        \n",
    "        self.x, self.t, self.p = x, t, p\n",
    "        self.train_step = train_step\n",
    "        self.loss=loss\n",
    "        self.accuracy = accuracy\n",
    "    \n",
    "    def prepare_session(self):\n",
    "        sess = tf.InteractiveSession()\n",
    "        sess.run(tf.global_variables_initializer())\n",
    "#         summary = tf.merge_all_summaries()\n",
    "        summary = tf.summary.merge_all()\n",
    "#         writer = tf.train.SummaryWrighter(\"/tmp/mnist_st_logs\", sess.graph)\n",
    "        writer = tf.summary.FileWriter(\"/tmp/mnist_sl_logs\", sess.graph)        \n",
    "        self.sess = sess\n",
    "        self.summary = summary\n",
    "        self.writer = writer\n",
    "        "
   ]
  },
  {
   "cell_type": "code",
   "execution_count": 4,
   "metadata": {},
   "outputs": [],
   "source": [
    "!rm -rf /tmp/mnist_sl_logs\n"
   ]
  },
  {
   "cell_type": "code",
   "execution_count": 5,
   "metadata": {},
   "outputs": [
    {
     "name": "stdout",
     "output_type": "stream",
     "text": [
      "Step:100, Loss: 3295.413330, Accuracy: 0.904800\n",
      "Step:200, Loss: 2708.133057, Accuracy: 0.924000\n",
      "Step:300, Loss: 2368.020508, Accuracy: 0.933300\n",
      "Step:400, Loss: 2163.022461, Accuracy: 0.937900\n",
      "Step:500, Loss: 2034.045410, Accuracy: 0.940200\n",
      "Step:600, Loss: 1861.392578, Accuracy: 0.945300\n",
      "Step:700, Loss: 1795.880981, Accuracy: 0.949100\n",
      "Step:800, Loss: 1726.360474, Accuracy: 0.950000\n",
      "Step:900, Loss: 1632.606812, Accuracy: 0.950400\n",
      "Step:1000, Loss: 1528.746826, Accuracy: 0.953900\n",
      "Step:1100, Loss: 1504.484619, Accuracy: 0.956200\n",
      "Step:1200, Loss: 1459.716064, Accuracy: 0.957000\n",
      "Step:1300, Loss: 1406.968506, Accuracy: 0.957200\n",
      "Step:1400, Loss: 1388.481445, Accuracy: 0.957800\n",
      "Step:1500, Loss: 1343.758789, Accuracy: 0.958800\n",
      "Step:1600, Loss: 1335.115601, Accuracy: 0.960500\n",
      "Step:1700, Loss: 1296.522949, Accuracy: 0.961300\n",
      "Step:1800, Loss: 1243.706299, Accuracy: 0.961900\n",
      "Step:1900, Loss: 1309.800171, Accuracy: 0.961500\n",
      "Step:2000, Loss: 1228.673584, Accuracy: 0.962200\n"
     ]
    }
   ],
   "source": [
    "nn  =SingleLayerNetwork(1024)\n",
    "\n",
    "i = 0\n",
    "for _ in range(2000):\n",
    "    i += 1\n",
    "    batch_xs, batch_ts = mnist.train.next_batch(100)\n",
    "    nn.sess.run(nn.train_step, feed_dict={nn.x:batch_xs, nn.t:batch_ts})\n",
    "    if i % 100 == 0:\n",
    "        summary, loss_val, acc_val = nn.sess.run([nn.summary, nn.loss, nn.accuracy], feed_dict={nn.x:mnist.test.images, nn.t:mnist.test.labels})\n",
    "        print('Step:%d, Loss: %f, Accuracy: %f' % (i, loss_val, acc_val) )\n",
    "        nn.writer.add_summary(summary, i)\n"
   ]
  },
  {
   "cell_type": "code",
   "execution_count": null,
   "metadata": {},
   "outputs": [],
   "source": []
  }
 ],
 "metadata": {
  "kernelspec": {
   "display_name": "Python 3",
   "language": "python",
   "name": "python3"
  },
  "language_info": {
   "codemirror_mode": {
    "name": "ipython",
    "version": 3
   },
   "file_extension": ".py",
   "mimetype": "text/x-python",
   "name": "python",
   "nbconvert_exporter": "python",
   "pygments_lexer": "ipython3",
   "version": "3.6.2"
  }
 },
 "nbformat": 4,
 "nbformat_minor": 2
}
