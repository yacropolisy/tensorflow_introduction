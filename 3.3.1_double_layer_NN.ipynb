{
 "cells": [
  {
   "cell_type": "code",
   "execution_count": 1,
   "metadata": {},
   "outputs": [
    {
     "name": "stderr",
     "output_type": "stream",
     "text": [
      "/Users/admin/.pyenv/versions/anaconda3-2.4.0/envs/tensorFlow/lib/python3.6/importlib/_bootstrap.py:205: RuntimeWarning: compiletime version 3.5 of module 'tensorflow.python.framework.fast_tensor_util' does not match runtime version 3.6\n",
      "  return f(*args, **kwds)\n"
     ]
    }
   ],
   "source": [
    "import tensorflow as tf\n",
    "import numpy as np\n",
    "import matplotlib.pyplot as plt\n",
    "from numpy.random import multivariate_normal, permutation\n",
    "import pandas as pd\n",
    "from pandas import DataFrame, Series\n",
    "\n",
    "np.random.seed(20160615)\n",
    "tf.set_random_seed(20160615)"
   ]
  },
  {
   "cell_type": "code",
   "execution_count": 2,
   "metadata": {},
   "outputs": [],
   "source": [
    "def generate_detablock(n, mu, var, t):\n",
    "    data = multivariate_normal(mu, np.eye(2)*var, n)\n",
    "    df = DataFrame(data, columns=['x1', 'x2'])\n",
    "    df['t'] = t\n",
    "    return df\n",
    "\n",
    "df0 = generate_detablock(30,[-7,-7],18,1)\n",
    "df1 = generate_detablock(30,[-7,7],18,0)\n",
    "df2 = generate_detablock(30,[7,-7],18,0)\n",
    "df3 = generate_detablock(30,[7,7],18,1)\n",
    "\n",
    "df = pd.concat([df0, df1, df2, df3], ignore_index=True)\n",
    "train_set = df.reindex(permutation(df.index)).reset_index(drop=True)\n"
   ]
  },
  {
   "cell_type": "code",
   "execution_count": 3,
   "metadata": {},
   "outputs": [],
   "source": [
    "train_x = train_set[['x1','x2']].as_matrix()\n",
    "train_t = train_set['t'].as_matrix().reshape([len(train_set),1])"
   ]
  },
  {
   "cell_type": "code",
   "execution_count": 4,
   "metadata": {},
   "outputs": [],
   "source": [
    "num_units1 = 2\n",
    "num_units2 = 2\n",
    "\n",
    "x = tf.placeholder(tf.float32, [None, 2])\n",
    "\n",
    "w1 = tf.Variable(tf.truncated_normal([2, num_units1]))\n",
    "b1 = tf.Variable(tf.zeros([num_units1]))\n",
    "hidden1 = tf.nn.tanh(tf.matmul(x, w1) + b1)\n",
    "\n",
    "w2 = tf.Variable(tf.truncated_normal([num_units1, num_units2]))\n",
    "b2 = tf.Variable(tf.zeros([num_units2]))\n",
    "hidden2 = tf.nn.tanh(tf.matmul(hidden1, w2) + b2)\n",
    "\n",
    "w0 = tf.Variable(tf.zeros([num_units2, 1]))\n",
    "b0 = tf.Variable(tf.zeros([1]))\n",
    "p = tf.nn.sigmoid(tf.matmul(hidden2, w0) + b0)"
   ]
  },
  {
   "cell_type": "code",
   "execution_count": 5,
   "metadata": {},
   "outputs": [],
   "source": [
    "t = tf.placeholder(tf.float32, [None,1])\n",
    "loss = -tf.reduce_sum(t*tf.log(p) + (1-t)*tf.log(1-p))\n",
    "train_step = tf.train.GradientDescentOptimizer(0.001).minimize(loss)\n",
    "correct_prediction = tf.equal(tf.sign(p-0.5), tf.sign(t-0.5))\n",
    "accuracy = tf.reduce_mean(tf.cast(correct_prediction, tf.float32))"
   ]
  },
  {
   "cell_type": "code",
   "execution_count": 6,
   "metadata": {},
   "outputs": [],
   "source": [
    "sess = tf.InteractiveSession()\n",
    "sess.run(tf.global_variables_initializer())"
   ]
  },
  {
   "cell_type": "code",
   "execution_count": 7,
   "metadata": {},
   "outputs": [
    {
     "name": "stdout",
     "output_type": "stream",
     "text": [
      "step: 100, loss: 83.176933, accuracy: 0.508333\n",
      "step: 200, loss: 83.176178, accuracy: 0.508333\n",
      "step: 300, loss: 83.174591, accuracy: 0.508333\n",
      "step: 400, loss: 83.171082, accuracy: 0.500000\n",
      "step: 500, loss: 83.162636, accuracy: 0.508333\n",
      "step: 600, loss: 83.140877, accuracy: 0.516667\n",
      "step: 700, loss: 83.075996, accuracy: 0.541667\n",
      "step: 800, loss: 82.822495, accuracy: 0.541667\n",
      "step: 900, loss: 81.475693, accuracy: 0.625000\n",
      "step: 1000, loss: 75.140419, accuracy: 0.658333\n",
      "step: 1100, loss: 59.051060, accuracy: 0.866667\n",
      "step: 1200, loss: 46.646378, accuracy: 0.900000\n",
      "step: 1300, loss: 41.770844, accuracy: 0.900000\n",
      "step: 1400, loss: 39.639244, accuracy: 0.900000\n",
      "step: 1500, loss: 38.510742, accuracy: 0.900000\n",
      "step: 1600, loss: 37.788445, accuracy: 0.900000\n",
      "step: 1700, loss: 37.159111, accuracy: 0.900000\n",
      "step: 1800, loss: 36.648502, accuracy: 0.900000\n",
      "step: 1900, loss: 36.529396, accuracy: 0.891667\n",
      "step: 2000, loss: 36.352604, accuracy: 0.891667\n"
     ]
    }
   ],
   "source": [
    "i = 0\n",
    "for _ in range(2000):\n",
    "    i += 1\n",
    "    sess.run(train_step, feed_dict={x:train_x, t:train_t})\n",
    "    if i % 100 == 0:\n",
    "        loss_val, acc_val = sess.run([loss, accuracy], feed_dict={x:train_x, t:train_t})\n",
    "        print('step: %d, loss: %f, accuracy: %f' % (i, loss_val, acc_val))"
   ]
  },
  {
   "cell_type": "code",
   "execution_count": 12,
   "metadata": {},
   "outputs": [
    {
     "data": {
      "text/plain": [
       "<matplotlib.image.AxesImage at 0x11af67128>"
      ]
     },
     "execution_count": 12,
     "metadata": {},
     "output_type": "execute_result"
    }
   ],
   "source": [
    "train_set0 = train_set[train_set['t'] == 0]\n",
    "train_set1 = train_set[train_set['t'] == 1]\n",
    "\n",
    "fig = plt.figure(figsize=(6,6))\n",
    "subplot = fig.add_subplot(1,1,1)\n",
    "subplot.set_ylim([-15,15])\n",
    "subplot.set_xlim([-15,15])\n",
    "subplot.scatter(train_set1.x1,train_set1.x2, marker='x')\n",
    "subplot.scatter(train_set0.x1,train_set0.x2, marker='o')\n",
    "\n",
    "locations = [] \n",
    "for x2 in np.linspace(-15, 15, 100):\n",
    "    for x1 in np.linspace(-15,15,100):\n",
    "        locations.append((x1,x2))\n",
    "p_vals = sess.run(p, feed_dict={x:locations})\n",
    "p_vals = p_vals.reshape((100,100))\n",
    "subplot.imshow(p_vals, origin='lower', extent=(-15, 15, -15, 15), cmap=plt.cm.gray_r, alpha=0.5)"
   ]
  },
  {
   "cell_type": "code",
   "execution_count": 13,
   "metadata": {},
   "outputs": [
    {
     "data": {
      "image/png": "[encoded data removed]",
      "text/plain": [
       "<matplotlib.figure.Figure at 0x11af2c320>"
      ]
     },
     "execution_count": 13,
     "metadata": {},
     "output_type": "execute_result"
    }
   ],
   "source": [
    "fig"
   ]
  },
  {
   "cell_type": "code",
   "execution_count": null,
   "metadata": {},
   "outputs": [],
   "source": []
  }
 ],
 "metadata": {
  "kernelspec": {
   "display_name": "Python 3",
   "language": "python",
   "name": "python3"
  },
  "language_info": {
   "codemirror_mode": {
    "name": "ipython",
    "version": 3
   },
   "file_extension": ".py",
   "mimetype": "text/x-python",
   "name": "python",
   "nbconvert_exporter": "python",
   "pygments_lexer": "ipython3",
   "version": "3.6.2"
  }
 },
 "nbformat": 4,
 "nbformat_minor": 2
}
