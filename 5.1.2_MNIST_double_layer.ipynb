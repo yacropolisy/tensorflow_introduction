{
 "cells": [
  {
   "cell_type": "code",
   "execution_count": 1,
   "metadata": {},
   "outputs": [
    {
     "name": "stderr",
     "output_type": "stream",
     "text": [
      "/Users/admin/.pyenv/versions/anaconda3-2.4.0/envs/tensorFlow/lib/python3.6/importlib/_bootstrap.py:205: RuntimeWarning: compiletime version 3.5 of module 'tensorflow.python.framework.fast_tensor_util' does not match runtime version 3.6\n",
      "  return f(*args, **kwds)\n"
     ]
    }
   ],
   "source": [
    "import tensorflow as tf\n",
    "import numpy as np\n",
    "import matplotlib.pyplot as plt\n",
    "from tensorflow.examples.tutorials.mnist import input_data\n",
    "\n",
    "np.random.seed(20160704)\n",
    "tf.set_random_seed(20160704)"
   ]
  },
  {
   "cell_type": "code",
   "execution_count": 2,
   "metadata": {},
   "outputs": [
    {
     "name": "stdout",
     "output_type": "stream",
     "text": [
      "Extracting tmp/data/train-images-idx3-ubyte.gz\n",
      "Extracting tmp/data/train-labels-idx1-ubyte.gz\n",
      "Extracting tmp/data/t10k-images-idx3-ubyte.gz\n",
      "Extracting tmp/data/t10k-labels-idx1-ubyte.gz\n"
     ]
    }
   ],
   "source": [
    "mnist = input_data.read_data_sets(\"tmp/data/\", one_hot=True)"
   ]
  },
  {
   "cell_type": "code",
   "execution_count": 3,
   "metadata": {},
   "outputs": [],
   "source": [
    "num_filters1 = 32\n",
    "\n",
    "x = tf.placeholder(tf.float32, [None, 784])\n",
    "x_image = tf.reshape(x, [-1,28,28,1])\n",
    "\n",
    "W_conv1 = tf.Variable(tf.truncated_normal([5,5,1,num_filters1],stddev=0.1))\n",
    "h_conv1 = tf.nn.conv2d(x_image, W_conv1, strides=[1,1,1,1], padding='SAME')\n",
    "\n",
    "b_conv1 = tf.Variable(tf.constant(0.1, shape=[num_filters1]))\n",
    "h_conv1_cutoff = tf.nn.relu(h_conv1 + b_conv1)\n",
    "\n",
    "h_pool1 = tf.nn.max_pool(h_conv1, ksize=[1,2,2,1], strides=[1,2,2,1],padding='SAME')"
   ]
  },
  {
   "cell_type": "code",
   "execution_count": 4,
   "metadata": {},
   "outputs": [],
   "source": [
    "num_filters2 = 64\n",
    "\n",
    "W_conv2 = tf.Variable(tf.truncated_normal([5,5,num_filters1,num_filters2],stddev=0.1))\n",
    "h_conv2 = tf.nn.conv2d(h_pool1, W_conv2, strides=[1,1,1,1], padding='SAME')\n",
    "\n",
    "b_conv2 = tf.Variable(tf.constant(0.1, shape=[num_filters2]))\n",
    "h_conv2_cutoff = tf.nn.relu(h_conv2 + b_conv2)\n",
    "\n",
    "h_pool2 = tf.nn.max_pool(h_conv2, ksize=[1,2,2,1], strides=[1,2,2,1],padding='SAME')"
   ]
  },
  {
   "cell_type": "code",
   "execution_count": 5,
   "metadata": {},
   "outputs": [],
   "source": [
    "h_pool2_flat = tf.reshape(h_pool2,[-1, 7*7*num_filters2])\n",
    "\n",
    "num_units1 = 7 * 7 * num_filters2\n",
    "num_units2 =  1024\n",
    "\n",
    "w2 = tf.Variable(tf.truncated_normal([num_units1, num_units2]))\n",
    "b2 = tf.Variable(tf.constant(0.1, shape=[num_units2]))\n",
    "hidden2 = tf.nn.relu(tf.matmul(h_pool2_flat, w2) + b2)\n",
    "\n",
    "keep_prob = tf.placeholder(tf.float32)\n",
    "hidden2_drop = tf.nn.dropout(hidden2, keep_prob)\n",
    "\n",
    "w0 = tf.Variable(tf.zeros([num_units2, 10]))\n",
    "b0 = tf.Variable(tf.zeros([10]))\n",
    "p = tf.nn.softmax(tf.matmul(hidden2_drop, w0) + b0)"
   ]
  },
  {
   "cell_type": "code",
   "execution_count": 6,
   "metadata": {},
   "outputs": [],
   "source": [
    "t = tf.placeholder(tf.float32, [None,10])\n",
    "loss = -tf.reduce_sum(t*tf.log(p))\n",
    "train_step = tf.train.AdamOptimizer(0.0001).minimize(loss)\n",
    "correct_prediction = tf.equal(tf.argmax(p,1), tf.argmax(t,1))\n",
    "accuracy = tf.reduce_mean(tf.cast(correct_prediction, tf.float32))"
   ]
  },
  {
   "cell_type": "code",
   "execution_count": 7,
   "metadata": {},
   "outputs": [],
   "source": [
    "sess = tf.InteractiveSession()\n",
    "sess.run(tf.global_variables_initializer())\n",
    "saver = tf.train.Saver()"
   ]
  },
  {
   "cell_type": "code",
   "execution_count": 8,
   "metadata": {},
   "outputs": [
    {
     "name": "stdout",
     "output_type": "stream",
     "text": [
      "Step:500, Loss: 244.278778, Accuracy: 0.972000\n",
      "Step:1000, Loss: 134.620178, Accuracy: 0.986400\n",
      "Step:1500, Loss: 112.964005, Accuracy: 0.986400\n",
      "Step:2000, Loss: 98.829132, Accuracy: 0.988800\n",
      "Step:2500, Loss: 81.765381, Accuracy: 0.988400\n",
      "Step:3000, Loss: 68.454697, Accuracy: 0.992000\n",
      "Step:3500, Loss: 67.217575, Accuracy: 0.990400\n",
      "Step:4000, Loss: 62.547356, Accuracy: 0.992400\n",
      "Step:4500, Loss: 58.027382, Accuracy: 0.992800\n",
      "Step:5000, Loss: 44.214378, Accuracy: 0.994800\n",
      "Step:5500, Loss: 55.525826, Accuracy: 0.990800\n",
      "Step:6000, Loss: 56.310337, Accuracy: 0.994000\n",
      "Step:6500, Loss: 47.793503, Accuracy: 0.993200\n",
      "Step:7000, Loss: 47.325188, Accuracy: 0.994400\n",
      "Step:7500, Loss: 35.826271, Accuracy: 0.994800\n",
      "Step:8000, Loss: 46.296482, Accuracy: 0.994800\n",
      "Step:8500, Loss: 43.738319, Accuracy: 0.994800\n",
      "Step:9000, Loss: 41.019577, Accuracy: 0.994800\n",
      "Step:9500, Loss: 52.390945, Accuracy: 0.992800\n",
      "Step:10000, Loss: 40.027397, Accuracy: 0.994800\n",
      "Step:10500, Loss: 39.714485, Accuracy: 0.994000\n",
      "Step:11000, Loss: 33.603794, Accuracy: 0.995600\n",
      "Step:11500, Loss: 31.066906, Accuracy: 0.996000\n",
      "Step:12000, Loss: 37.080761, Accuracy: 0.995200\n",
      "Step:12500, Loss: 39.752960, Accuracy: 0.994400\n",
      "Step:13000, Loss: 48.571373, Accuracy: 0.994400\n",
      "Step:13500, Loss: 33.434643, Accuracy: 0.994400\n",
      "Step:14000, Loss: 34.210106, Accuracy: 0.996400\n"
     ]
    }
   ],
   "source": [
    "i = 0\n",
    "# for _ in range(20000):\n",
    "for _ in range(14000):\n",
    "    i += 1\n",
    "    batch_xs, batch_ts = mnist.train.next_batch(50)\n",
    "    sess.run(train_step, feed_dict={x:batch_xs, t:batch_ts, keep_prob:0.5})\n",
    "    if i % 500 == 0:\n",
    "        loss_vals, acc_vals = [],[]\n",
    "        for c in range(4):\n",
    "            start = int(len(mnist.test.labels) / 4 * c)\n",
    "            end = int(len(mnist.test.labels) /4 * (c + 1))\n",
    "            loss_val, acc_val = sess.run([loss, accuracy], feed_dict={x:mnist.test.images[start:end], t:mnist.test.labels[start:end], keep_prob:1.0})\n",
    "            loss_vals.append(loss_val)\n",
    "            acc_vals.append(acc_val)\n",
    "        loss_val = np.sum(loss_val)\n",
    "        acc_val = np.mean(acc_val)      \n",
    "        print('Step:%d, Loss: %f, Accuracy: %f' % (i, loss_val, acc_val) )\n",
    "        saver.save(sess, './sessions/cnn-session', global_step=i)"
   ]
  },
  {
   "cell_type": "code",
   "execution_count": null,
   "metadata": {},
   "outputs": [],
   "source": []
  }
 ],
 "metadata": {
  "kernelspec": {
   "display_name": "Python 3",
   "language": "python",
   "name": "python3"
  },
  "language_info": {
   "codemirror_mode": {
    "name": "ipython",
    "version": 3
   },
   "file_extension": ".py",
   "mimetype": "text/x-python",
   "name": "python",
   "nbconvert_exporter": "python",
   "pygments_lexer": "ipython3",
   "version": "3.6.2"
  }
 },
 "nbformat": 4,
 "nbformat_minor": 2
}
