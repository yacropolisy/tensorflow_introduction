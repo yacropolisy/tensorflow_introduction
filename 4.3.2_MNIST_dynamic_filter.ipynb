{
 "cells": [
  {
   "cell_type": "code",
   "execution_count": 1,
   "metadata": {},
   "outputs": [
    {
     "name": "stderr",
     "output_type": "stream",
     "text": [
      "/Users/admin/.pyenv/versions/anaconda3-2.4.0/envs/tensorFlow/lib/python3.6/importlib/_bootstrap.py:205: RuntimeWarning: compiletime version 3.5 of module 'tensorflow.python.framework.fast_tensor_util' does not match runtime version 3.6\n",
      "  return f(*args, **kwds)\n"
     ]
    }
   ],
   "source": [
    "import tensorflow as tf\n",
    "import numpy as np\n",
    "import matplotlib.pyplot as plt\n",
    "from tensorflow.examples.tutorials.mnist import input_data\n",
    "\n",
    "np.random.seed(20160703)\n",
    "tf.set_random_seed(20160703)"
   ]
  },
  {
   "cell_type": "code",
   "execution_count": 2,
   "metadata": {},
   "outputs": [
    {
     "name": "stdout",
     "output_type": "stream",
     "text": [
      "Extracting tmp/data/train-images-idx3-ubyte.gz\n",
      "Extracting tmp/data/train-labels-idx1-ubyte.gz\n",
      "Extracting tmp/data/t10k-images-idx3-ubyte.gz\n",
      "Extracting tmp/data/t10k-labels-idx1-ubyte.gz\n"
     ]
    }
   ],
   "source": [
    "mnist = input_data.read_data_sets(\"tmp/data/\", one_hot=True)"
   ]
  },
  {
   "cell_type": "code",
   "execution_count": 3,
   "metadata": {},
   "outputs": [],
   "source": [
    "num_filters = 16\n",
    "\n",
    "x = tf.placeholder(tf.float32, [None, 784])\n",
    "x_image = tf.reshape(x, [-1,28,28,1])\n",
    "\n",
    "W_conv = tf.Variable(tf.truncated_normal([5,5,1,num_filters],stddev=0.1))\n",
    "h_conv = tf.nn.conv2d(x_image, W_conv, strides=[1,1,1,1], padding='SAME')\n",
    "h_pool = tf.nn.max_pool(h_conv, ksize=[1,2,2,1], strides=[1,2,2,1],padding='SAME')"
   ]
  },
  {
   "cell_type": "code",
   "execution_count": 4,
   "metadata": {},
   "outputs": [],
   "source": [
    "h_pool_flat = tf.reshape(h_pool,[-1, 14*14*num_filters])\n",
    "\n",
    "num_units1 = 14 * 14 * num_filters\n",
    "num_units2 =  1024\n",
    "\n",
    "w2 = tf.Variable(tf.truncated_normal([num_units1, num_units2]))\n",
    "b2 = tf.Variable(tf.zeros([num_units2]))\n",
    "hidden2 = tf.nn.relu(tf.matmul(h_pool_flat, w2) + b2)\n",
    "\n",
    "w0 = tf.Variable(tf.zeros([num_units2, 10]))\n",
    "b0 = tf.Variable(tf.zeros([10]))\n",
    "p = tf.nn.softmax(tf.matmul(hidden2, w0) + b0)"
   ]
  },
  {
   "cell_type": "code",
   "execution_count": 5,
   "metadata": {},
   "outputs": [],
   "source": [
    "t = tf.placeholder(tf.float32, [None,10])\n",
    "loss = -tf.reduce_sum(t*tf.log(p))\n",
    "train_step = tf.train.AdamOptimizer(0.0005).minimize(loss)\n",
    "correct_prediction = tf.equal(tf.argmax(p,1), tf.argmax(t,1))\n",
    "accuracy = tf.reduce_mean(tf.cast(correct_prediction, tf.float32))"
   ]
  },
  {
   "cell_type": "code",
   "execution_count": 9,
   "metadata": {},
   "outputs": [],
   "source": [
    "sess = tf.InteractiveSession()\n",
    "sess.run(tf.global_variables_initializer())\n",
    "saver = tf.train.Saver()"
   ]
  },
  {
   "cell_type": "code",
   "execution_count": 11,
   "metadata": {},
   "outputs": [
    {
     "name": "stdout",
     "output_type": "stream",
     "text": [
      "step:100, Loss: 1650.384888, Accuracy: 0.950800\n",
      "step:200, Loss: 1515.958252, Accuracy: 0.953700\n",
      "step:300, Loss: 1200.071777, Accuracy: 0.964300\n",
      "step:400, Loss: 1233.552368, Accuracy: 0.963300\n",
      "step:500, Loss: 994.702881, Accuracy: 0.968500\n",
      "step:600, Loss: 978.245972, Accuracy: 0.969700\n",
      "step:700, Loss: 963.010742, Accuracy: 0.970500\n",
      "step:800, Loss: 960.334106, Accuracy: 0.970900\n",
      "step:900, Loss: 920.477173, Accuracy: 0.972500\n",
      "step:1000, Loss: 1018.964111, Accuracy: 0.971200\n",
      "step:1100, Loss: 821.887024, Accuracy: 0.974500\n",
      "step:1200, Loss: 913.843994, Accuracy: 0.973300\n",
      "step:1300, Loss: 721.028503, Accuracy: 0.977100\n",
      "step:1400, Loss: 731.529297, Accuracy: 0.978300\n",
      "step:1500, Loss: 749.007446, Accuracy: 0.976700\n",
      "step:1600, Loss: 680.849915, Accuracy: 0.979400\n",
      "step:1700, Loss: 716.985168, Accuracy: 0.977800\n",
      "step:1800, Loss: 786.641357, Accuracy: 0.975600\n",
      "step:1900, Loss: 721.795410, Accuracy: 0.979000\n",
      "step:2000, Loss: 670.245850, Accuracy: 0.979900\n",
      "step:2100, Loss: 652.366943, Accuracy: 0.979600\n",
      "step:2200, Loss: 715.632568, Accuracy: 0.978300\n",
      "step:2300, Loss: 609.435547, Accuracy: 0.981400\n",
      "step:2400, Loss: 743.212952, Accuracy: 0.978600\n",
      "step:2500, Loss: 682.892700, Accuracy: 0.980000\n",
      "step:2600, Loss: 701.454773, Accuracy: 0.979300\n",
      "step:2700, Loss: 645.376770, Accuracy: 0.981400\n",
      "step:2800, Loss: 661.890625, Accuracy: 0.983100\n",
      "step:2900, Loss: 679.827881, Accuracy: 0.980900\n",
      "step:3000, Loss: 746.669556, Accuracy: 0.979600\n",
      "step:3100, Loss: 733.475708, Accuracy: 0.979900\n",
      "step:3200, Loss: 720.694946, Accuracy: 0.980900\n",
      "step:3300, Loss: 702.711304, Accuracy: 0.981100\n",
      "step:3400, Loss: 727.035583, Accuracy: 0.980400\n",
      "step:3500, Loss: 734.679504, Accuracy: 0.980600\n",
      "step:3600, Loss: 710.499390, Accuracy: 0.981000\n",
      "step:3700, Loss: 706.294250, Accuracy: 0.981900\n",
      "step:3800, Loss: 732.504822, Accuracy: 0.981400\n",
      "step:3900, Loss: 720.029785, Accuracy: 0.981600\n",
      "step:4000, Loss: 758.177917, Accuracy: 0.979800\n"
     ]
    }
   ],
   "source": [
    "i = 0\n",
    "for _ in range(4000):\n",
    "    i += 1\n",
    "    batch_xs, batch_ts = mnist.train.next_batch(100)\n",
    "    sess.run(train_step, feed_dict={x:batch_xs, t:batch_ts})\n",
    "    if i % 100 == 0:\n",
    "        loss_val, acc_val = sess.run([loss, accuracy], feed_dict={x:mnist.test.images, t:mnist.test.labels})\n",
    "        print('step:%d, Loss: %f, Accuracy: %f' % (i, loss_val, acc_val) )\n",
    "        saver.save(sess, './sessions/mdc-session', global_step=i)"
   ]
  },
  {
   "cell_type": "code",
   "execution_count": 13,
   "metadata": {},
   "outputs": [
    {
     "name": "stdout",
     "output_type": "stream",
     "text": [
      "mdc-session-3600.data-00000-of-00001 mdc-session-3800.meta\r\n",
      "mdc-session-3600.index               mdc-session-3900.data-00000-of-00001\r\n",
      "mdc-session-3600.meta                mdc-session-3900.index\r\n",
      "mdc-session-3700.data-00000-of-00001 mdc-session-3900.meta\r\n",
      "mdc-session-3700.index               mdc-session-4000.data-00000-of-00001\r\n",
      "mdc-session-3700.meta                mdc-session-4000.index\r\n",
      "mdc-session-3800.data-00000-of-00001 mdc-session-4000.meta\r\n",
      "mdc-session-3800.index\r\n",
      "\r\n",
      "mdc-session:\r\n"
     ]
    }
   ],
   "source": [
    "!ls mdc-session*"
   ]
  },
  {
   "cell_type": "code",
   "execution_count": null,
   "metadata": {},
   "outputs": [],
   "source": []
  }
 ],
 "metadata": {
  "kernelspec": {
   "display_name": "Python 3",
   "language": "python",
   "name": "python3"
  },
  "language_info": {
   "codemirror_mode": {
    "name": "ipython",
    "version": 3
   },
   "file_extension": ".py",
   "mimetype": "text/x-python",
   "name": "python",
   "nbconvert_exporter": "python",
   "pygments_lexer": "ipython3",
   "version": "3.6.2"
  }
 },
 "nbformat": 4,
 "nbformat_minor": 2
}
